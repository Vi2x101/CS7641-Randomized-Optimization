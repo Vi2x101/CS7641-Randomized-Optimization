{
 "cells": [
  {
   "cell_type": "code",
   "execution_count": null,
   "id": "91b737fe-e06e-4e88-94ca-e5951e4a7bb1",
   "metadata": {},
   "outputs": [],
   "source": [
    "%pip install ../../mlrose/\n",
    "import mlrose_hiive as mlrose\n",
    "import numpy as np\n",
    "import matplotlib.pyplot as plt\n",
    "import pandas as pd\n",
    "import time\n",
    "from ucimlrepo import fetch_ucirepo \n",
    "from collections import Counter\n",
    "from sklearn import preprocessing\n",
    "from sklearn.model_selection import learning_curve\n",
    "from sklearn.model_selection import LearningCurveDisplay, ShuffleSplit\n",
    "from sklearn.neural_network import MLPClassifier\n",
    "from sklearn.metrics import classification_report, confusion_matrix\n",
    "from sklearn.model_selection import train_test_split\n",
    "from sklearn.metrics import accuracy_score, f1_score\n",
    "from sklearn.preprocessing import MinMaxScaler, OneHotEncoder\n",
    "from imblearn.over_sampling import SMOTE\n",
    "from sklearn.model_selection import validation_curve"
   ]
  },
  {
   "cell_type": "code",
   "execution_count": null,
   "id": "bc61937f-88fb-4ad5-9a23-8d41971f0071",
   "metadata": {},
   "outputs": [],
   "source": [
    "RANDOM_STATE=101"
   ]
  },
  {
   "cell_type": "code",
   "execution_count": null,
   "id": "20adb729-741b-4099-aeed-d32506746226",
   "metadata": {},
   "outputs": [],
   "source": [
    "# Wine Quality Data\n",
    "# fetch dataset \n",
    "wq_df = fetch_ucirepo(id=17) \n",
    "  \n",
    "# data (as pandas dataframes) \n",
    "X = wq_df.data.features \n",
    "y = wq_df.data.targets \n",
    "\n",
    "# Change values to 0-1: 0 for benign and 1 for malignant\n",
    "y['Diagnosis'] = y['Diagnosis'].map({'M': 1, 'B': 0})"
   ]
  },
  {
   "cell_type": "code",
   "execution_count": null,
   "id": "90dfc565-b351-45ed-a968-6609c905aa3f",
   "metadata": {},
   "outputs": [],
   "source": [
    "# Split into training and testing sets. Don't use test set until the very end\n",
    "X_train, X_test, y_train, y_test = train_test_split(X, y, test_size=.2, random_state=RANDOM_STATE, stratify = y)"
   ]
  },
  {
   "cell_type": "markdown",
   "id": "e421e351-49aa-4392-bd47-f70ef492df47",
   "metadata": {},
   "source": [
    "### Pre-Processing"
   ]
  },
  {
   "cell_type": "code",
   "execution_count": null,
   "id": "af09d489-f26d-48fe-9855-c7c6d6d00865",
   "metadata": {},
   "outputs": [],
   "source": [
    "# Standardize training and test set\n",
    "scaler = MinMaxScaler()\n",
    "X_train = scaler.fit_transform(X_train)\n",
    "X_test = scaler.transform(X_test)"
   ]
  },
  {
   "cell_type": "code",
   "execution_count": null,
   "id": "54770c80-2602-4c11-86d8-691353054696",
   "metadata": {},
   "outputs": [],
   "source": [
    "# Apply SMOTE\n",
    "smote = SMOTE(random_state=RANDOM_STATE)\n",
    "X_train, y_train = smote.fit_resample(X_train, y_train)"
   ]
  },
  {
   "cell_type": "markdown",
   "id": "5ce88285-c467-425f-836f-b1a6306bc4f8",
   "metadata": {},
   "source": [
    "### Original Back Propagation"
   ]
  },
  {
   "cell_type": "code",
   "execution_count": null,
   "id": "50f25871-5d09-478f-9413-df0880d7b07c",
   "metadata": {},
   "outputs": [],
   "source": [
    "# Neural Network - Back Propogation - Reimplemented with mlrose\n",
    "nn_model1 = mlrose.NeuralNetwork(hidden_nodes = (100,100,100), activation = 'relu',\n",
    "                                 algorithm = 'gradient_descent', max_iters = 2000,\n",
    "                                 bias = True, is_classifier = True, learning_rate = 0.001,\n",
    "                                 early_stopping = True, max_attempts = 10,\n",
    "\t\t\t\t random_state = RANDOM_STATE, curve = True)\n",
    "\n",
    "start_time = time.time()\n",
    "nn_model1.fit(X_train, y_train)\n",
    "end_time = time.time()\n",
    "bp_time = end_time - start_time\n",
    "\n",
    "# Fitted Weights\n",
    "print('Fitted Weights: ', nn_model1.fitted_weights)\n",
    "\n",
    "# Loss\n",
    "print('Loss: ', nn_model1.loss)\n",
    "\n",
    "# Run time\n",
    "print('Run Time: ', bp_time)"
   ]
  },
  {
   "cell_type": "markdown",
   "id": "6837701a-a975-42f4-9d26-b2db207aabef",
   "metadata": {},
   "source": [
    "#### Prediction"
   ]
  },
  {
   "cell_type": "code",
   "execution_count": null,
   "id": "662296fd-f0f2-4403-843d-ac2c33760a34",
   "metadata": {},
   "outputs": [],
   "source": [
    "# Predict labels for train set and assess accuracy\n",
    "y_train_pred = nn_model1.predict(X_train)\n",
    "\n",
    "y_train_accuracy = accuracy_score(y_train, y_train_pred)\n",
    "\n",
    "print('Training accuracy: ', y_train_accuracy)\n",
    "\n",
    "# Predict labels for test set and assess accuracy\n",
    "y_test_pred = nn_model1.predict(X_test)\n",
    "\n",
    "y_test_accuracy = accuracy_score(y_test, y_test_pred)\n",
    "\n",
    "print('Test accuracy: ', y_test_accuracy)"
   ]
  },
  {
   "cell_type": "markdown",
   "id": "ef0bb9cd-4cda-4716-83f7-3fb4396c7713",
   "metadata": {},
   "source": [
    "#### Fitness Curve"
   ]
  },
  {
   "cell_type": "code",
   "execution_count": null,
   "id": "cdb38a04-2699-4ede-872c-0c9b423c6104",
   "metadata": {},
   "outputs": [],
   "source": [
    "# Evaluate\n",
    "\n",
    "# Predicted Probabilities\n",
    "# print('Predicted Probabilities: ', nn_model1.predicted_probs)\n",
    "\n",
    "# Fitness Curve\n",
    "fitness_curve_bp = nn_model1.fitness_curve\n",
    "print('Fitness Curve: ', fitness_curve_bp)"
   ]
  },
  {
   "cell_type": "code",
   "execution_count": null,
   "id": "22ef48ff-bae2-4b2f-8dce-3aeeb3b4ecee",
   "metadata": {},
   "outputs": [],
   "source": [
    "# Plotting fitness curve\n",
    "iterations = [*range(0, len(fitness_curve_bp))]\n",
    "plt.plot(iterations, fitness_curve_bp, label='fitness')\n",
    "plt.title('Original Back Propagation', fontsize=10)\n",
    "plt.xlabel('Iterations', fontsize=8)\n",
    "plt.ylabel('Fitness Score', fontsize=8)\n",
    "plt.legend(loc='best', fontsize=8)\n",
    "plt.grid()\n",
    "plt.show()"
   ]
  },
  {
   "cell_type": "markdown",
   "id": "ee7f2695-6e0b-47e2-9c96-9e6959b5d274",
   "metadata": {},
   "source": [
    "#### Learning Curve"
   ]
  },
  {
   "cell_type": "code",
   "execution_count": null,
   "id": "5606645e-100b-4cb7-a21c-d77cf6505807",
   "metadata": {},
   "outputs": [],
   "source": [
    "# Plotting learning curve\n",
    "nn_model1 = mlrose.NeuralNetwork(hidden_nodes = (100,100,100), activation = 'relu',\n",
    "                                 algorithm = 'gradient_descent', max_iters = 2000,\n",
    "                                 bias = True, is_classifier = True, learning_rate = 0.001,\n",
    "                                 early_stopping = True, max_attempts = 10,\n",
    "\t\t\t\t random_state = RANDOM_STATE, curve = True)\n",
    "train_sizes, train_scores, validation_scores = learning_curve(\n",
    "estimator = nn_model1,\n",
    "X = X_train,\n",
    "y = y_train, cv = 5,\n",
    "scoring = 'f1_macro',\n",
    "random_state=RANDOM_STATE)"
   ]
  },
  {
   "cell_type": "code",
   "execution_count": null,
   "id": "744da2ff-984e-4a5e-a8d2-08ea4dce89fa",
   "metadata": {},
   "outputs": [],
   "source": [
    "print(train_sizes)\n",
    "print(train_scores)\n",
    "print(validation_scores)"
   ]
  },
  {
   "cell_type": "code",
   "execution_count": null,
   "id": "468a9c77-a642-4c4a-963d-105f2677cdd4",
   "metadata": {},
   "outputs": [],
   "source": [
    "train_mean = train_scores.mean(axis=1)\n",
    "validation_mean = validation_scores.mean(axis=1)\n",
    "\n",
    "plt.plot(train_sizes, train_mean, label=\"train\")\n",
    "plt.plot(train_sizes, validation_mean, label=\"validation\")\n",
    "\n",
    "plt.title(\"Back Propagation Learning Curve\")\n",
    "plt.xlabel(\"Training Set Size\")\n",
    "plt.ylabel(\"f1 score\")\n",
    "plt.legend(loc=\"best\")\n",
    "plt.grid()\n",
    "\n",
    "plt.show()"
   ]
  },
  {
   "cell_type": "markdown",
   "id": "4ab4393d-5613-41c7-b7a4-575a83d1cff2",
   "metadata": {},
   "source": [
    "### Random Hill Climbing"
   ]
  },
  {
   "cell_type": "code",
   "execution_count": null,
   "id": "b1612d56-ceba-436e-b9de-1896f4194188",
   "metadata": {},
   "outputs": [],
   "source": [
    "grid_search_parameters = ({\n",
    "        'max_iters': [2000],                     # nn params\n",
    "        'learning_rate': [0.001],                         # nn params\n",
    "        'activation': [mlrose.relu],\n",
    "        # rhc params\n",
    "        'restarts': [1, 10, 25, 50, 100]\n",
    "    })\n",
    "\n",
    "nnr = mlrose.NNGSRunner(x_train=X_train,\n",
    "                 y_train=y_train,\n",
    "                 x_test=X_test,\n",
    "                 y_test=y_test,\n",
    "                 experiment_name='nn_rhc_test',\n",
    "                 algorithm=mlrose.algorithms.rhc.random_hill_climb,\n",
    "                 grid_search_parameters=grid_search_parameters,\n",
    "                 iteration_list=[1, 10, 50, 100, 250, 500, 1000, 2000],\n",
    "                 hidden_layer_sizes=[(100,100,100)],\n",
    "                 bias=True,\n",
    "                 early_stopping=True,\n",
    "                 clip_max=1e+10,\n",
    "                 max_attempts=10,\n",
    "                 generate_curves=True,\n",
    "                 seed=RANDOM_STATE)\n",
    "\n",
    "run_stats_df, curves_df, cv_results_df, grid_search_cv = nnr.run()          # GridSearchCV instance returned   "
   ]
  },
  {
   "cell_type": "code",
   "execution_count": null,
   "id": "8e597c0d-a3db-43e0-9bbf-e0563070ed5b",
   "metadata": {},
   "outputs": [],
   "source": [
    "run_stats_df"
   ]
  },
  {
   "cell_type": "code",
   "execution_count": null,
   "id": "d98a920c-f2f9-4f2d-85cc-f09b21faabaa",
   "metadata": {},
   "outputs": [],
   "source": [
    "curves_df"
   ]
  },
  {
   "cell_type": "code",
   "execution_count": null,
   "id": "197589d0-4c98-4b6e-87e1-fea1079754c7",
   "metadata": {},
   "outputs": [],
   "source": [
    "cv_results_df"
   ]
  },
  {
   "cell_type": "code",
   "execution_count": null,
   "id": "dcaa321f-c0e3-4b8e-9c2f-509ddf85ad3c",
   "metadata": {},
   "outputs": [],
   "source": [
    "grid_search_cv"
   ]
  },
  {
   "cell_type": "code",
   "execution_count": null,
   "id": "933dc7af-a479-4506-9023-1da2c22f6d63",
   "metadata": {},
   "outputs": [],
   "source": [
    "grid_search_cv.get_params()"
   ]
  },
  {
   "cell_type": "markdown",
   "id": "f3523647-9982-4ce4-8040-893f79f228da",
   "metadata": {},
   "source": [
    "#### Learning Curve"
   ]
  },
  {
   "cell_type": "code",
   "execution_count": null,
   "id": "0cb21d5c-7e16-4c67-b473-d9aed31fb35a",
   "metadata": {},
   "outputs": [],
   "source": [
    "# Plotting learning curve\n",
    "nn_model1 = mlrose.NeuralNetwork(hidden_nodes = (100,100,100), activation = 'relu',\n",
    "                                 algorithm = 'random_hill_climb', max_iters = 2000,\n",
    "                                 bias = True, is_classifier = True, learning_rate = 0.001,\n",
    "                                 early_stopping = True, max_attempts = 10,\n",
    "\t\t\t\t random_state = RANDOM_STATE, curve = True, restarts=100)\n",
    "train_sizes, train_scores, validation_scores = learning_curve(\n",
    "estimator = nn_model1,\n",
    "X = X_train,\n",
    "y = y_train, cv = 5,\n",
    "scoring = 'f1_macro',\n",
    "random_state=RANDOM_STATE)"
   ]
  },
  {
   "cell_type": "code",
   "execution_count": null,
   "id": "c3c0e1ea-2af3-4ad3-933e-98e678238249",
   "metadata": {},
   "outputs": [],
   "source": [
    "train_mean = train_scores.mean(axis=1)\n",
    "validation_mean = validation_scores.mean(axis=1)\n",
    "\n",
    "plt.plot(train_sizes, train_mean, label=\"train\")\n",
    "plt.plot(train_sizes, validation_mean, label=\"validation\")\n",
    "\n",
    "plt.title(\"Random Hill Climb Learning Curve\")\n",
    "plt.xlabel(\"Training Set Size\")\n",
    "plt.ylabel(\"f1 score\")\n",
    "plt.legend(loc=\"best\")\n",
    "plt.grid()\n",
    "\n",
    "plt.show()"
   ]
  },
  {
   "cell_type": "code",
   "execution_count": null,
   "id": "b864fa58-b53d-4909-9631-697479c9a537",
   "metadata": {},
   "outputs": [],
   "source": [
    "# Neural Network - Random Hill Climbing - Reimplemented with mlrose\n",
    "nn_model1 = mlrose.NeuralNetwork(hidden_nodes = (100,100,100), activation = 'relu',\n",
    "                                 algorithm = 'random_hill_climb', max_iters = 2000,\n",
    "                                 bias = True, is_classifier = True, learning_rate = 0.001,\n",
    "                                 early_stopping = True, max_attempts = 10,\n",
    "\t\t\t\t random_state = RANDOM_STATE, curve = True, restarts=100)\n",
    "\n",
    "start_time = time.time()\n",
    "nn_model1.fit(X_train, y_train)\n",
    "end_time = time.time()\n",
    "bp_time = end_time - start_time\n",
    "\n",
    "# Fitted Weights\n",
    "print('Fitted Weights: ', nn_model1.fitted_weights)\n",
    "\n",
    "# Loss\n",
    "print('Loss: ', nn_model1.loss)\n",
    "\n",
    "# Run time\n",
    "print('Run Time: ', bp_time)"
   ]
  },
  {
   "cell_type": "markdown",
   "id": "8c16d12a-bfd6-4a28-8a82-dfae5599b677",
   "metadata": {},
   "source": [
    "#### Prediction"
   ]
  },
  {
   "cell_type": "code",
   "execution_count": null,
   "id": "24893967-1194-40d1-a97f-e99132e9799f",
   "metadata": {},
   "outputs": [],
   "source": [
    "# Predict labels for train set and assess accuracy\n",
    "y_train_pred = nn_model1.predict(X_train)\n",
    "\n",
    "y_train_accuracy = accuracy_score(y_train, y_train_pred)\n",
    "\n",
    "print('Training accuracy: ', y_train_accuracy)\n",
    "\n",
    "# Predict labels for test set and assess accuracy\n",
    "y_test_pred = nn_model1.predict(X_test)\n",
    "\n",
    "y_test_accuracy = accuracy_score(y_test, y_test_pred)\n",
    "\n",
    "print('Test accuracy: ', y_test_accuracy)"
   ]
  },
  {
   "cell_type": "markdown",
   "id": "3254c18d-3e21-424c-aa6b-78239bee9486",
   "metadata": {},
   "source": [
    "#### Fitness Curve"
   ]
  },
  {
   "cell_type": "code",
   "execution_count": null,
   "id": "0ebb90bf-8c46-496e-9d88-a677891363e2",
   "metadata": {},
   "outputs": [],
   "source": [
    "# Evaluate\n",
    "\n",
    "# Predicted Probabilities\n",
    "print('Predicted Probabilities: ', nn_model1.predicted_probs)\n",
    "\n",
    "# Fitness Curve\n",
    "fitness_curve_bp = nn_model1.fitness_curve\n",
    "print('Fitness Curve: ', fitness_curve_bp)"
   ]
  },
  {
   "cell_type": "code",
   "execution_count": null,
   "id": "5f5673b6-44a5-4ae8-973d-fb0e76d83610",
   "metadata": {},
   "outputs": [],
   "source": [
    "# Plotting fitness curve\n",
    "iterations = [*range(0, len(fitness_curve_bp))]\n",
    "plt.plot(iterations, fitness_curve_bp, label='fitness')\n",
    "plt.title('Random Hill Climbing', fontsize=10)\n",
    "plt.xlabel('Iterations', fontsize=8)\n",
    "plt.ylabel('Fitness Score', fontsize=8)\n",
    "plt.legend(loc='best', fontsize=8)\n",
    "plt.grid()\n",
    "plt.show()"
   ]
  },
  {
   "cell_type": "markdown",
   "id": "06742789-f7f4-4b2c-bc06-06e22fceda67",
   "metadata": {},
   "source": [
    "#### Validation Curves"
   ]
  },
  {
   "cell_type": "code",
   "execution_count": null,
   "id": "69c3e636-816f-4072-b5b8-b5e55278a715",
   "metadata": {},
   "outputs": [],
   "source": [
    "parameter_range = [1, 10, 25, 50, 100]\n",
    "nn_model1 = mlrose.NeuralNetwork(hidden_nodes = (100,100,100), activation = 'relu',\n",
    "                                 algorithm = 'random_hill_climb', max_iters = 2000,\n",
    "                                 bias = True, is_classifier = True, learning_rate = 0.001,\n",
    "                                 early_stopping = True, max_attempts = 10,\n",
    "\t\t\t\t random_state = RANDOM_STATE, curve = True)\n",
    "train_score, test_score = validation_curve(nn_model1, X_train, y_train,\n",
    "                                           param_name=\"restarts\",\n",
    "                                           param_range=parameter_range,\n",
    "                                           cv=5, scoring=\"f1_macro\")"
   ]
  },
  {
   "cell_type": "code",
   "execution_count": null,
   "id": "77a2bf82-62bf-4db7-a7c7-bb1fde85a7c0",
   "metadata": {},
   "outputs": [],
   "source": [
    "print(train_score)"
   ]
  },
  {
   "cell_type": "code",
   "execution_count": null,
   "id": "2f2b6978-94e6-4518-974c-3bcef7218873",
   "metadata": {},
   "outputs": [],
   "source": [
    "print(test_score)"
   ]
  },
  {
   "cell_type": "code",
   "execution_count": null,
   "id": "293610b8-224d-4bca-98ce-d604f42220aa",
   "metadata": {},
   "outputs": [],
   "source": [
    "# Calculating mean and standard deviation of training score\n",
    "mean_train_score = np.mean(train_score, axis=1)\n",
    "std_train_score = np.std(train_score, axis=1)\n",
    " \n",
    "# Calculating mean and standard deviation of testing score\n",
    "mean_test_score = np.mean(test_score, axis=1)\n",
    "std_test_score = np.std(test_score, axis=1)\n",
    "\n",
    "parameter_range = [1, 10, 25, 50, 100]\n",
    "# Plot mean accuracy scores for training and testing scores\n",
    "plt.plot(parameter_range, mean_train_score,\n",
    "         label=\"training\", color='b')\n",
    "plt.plot(parameter_range, mean_test_score,\n",
    "         label=\"validation\", color='g')\n",
    " \n",
    "# Creating the plot\n",
    "plt.title(\"Restarts Validation Curve\")\n",
    "plt.xlabel(\"Restarts\")\n",
    "plt.ylabel(\"f1 score\")\n",
    "plt.tight_layout()\n",
    "plt.legend(loc='best')\n",
    "plt.grid()\n",
    "# plt.savefig('breast_cancer_plots/nn_bc_layer_width_validation_curve.png')\n",
    "plt.show()"
   ]
  },
  {
   "cell_type": "markdown",
   "id": "5bb73033-0041-471a-9e5a-019d56bb3b24",
   "metadata": {},
   "source": [
    "### Simulated Annealing"
   ]
  },
  {
   "cell_type": "code",
   "execution_count": null,
   "id": "83161f2b-a243-416a-9344-4c4d7cdb314e",
   "metadata": {},
   "outputs": [],
   "source": [
    "grid_search_parameters = ({\n",
    "        'max_iters': [2000],                     # nn params\n",
    "        'learning_rate': [0.001],                         # nn params\n",
    "        'activation': [mlrose.relu]\n",
    "    })\n",
    "\n",
    "nnr = mlrose.NNGSRunner(x_train=X_train,\n",
    "                 y_train=y_train,\n",
    "                 x_test=X_test,\n",
    "                 y_test=y_test,\n",
    "                 experiment_name='nn_sa_test',\n",
    "                 algorithm=mlrose.algorithms.sa.simulated_annealing,\n",
    "                 grid_search_parameters=grid_search_parameters,\n",
    "                 iteration_list=[1, 10, 50, 100, 250, 500, 1000, 2000],\n",
    "                 hidden_layer_sizes=[(100,100,100)],\n",
    "                 bias=True,\n",
    "                 early_stopping=True,\n",
    "                 clip_max=1e+10,\n",
    "                 max_attempts=10,\n",
    "                 generate_curves=True,\n",
    "                 seed=RANDOM_STATE)\n",
    "\n",
    "run_stats_df, curves_df, cv_results_df, grid_search_cv = nnr.run()          # GridSearchCV instance returned   "
   ]
  },
  {
   "cell_type": "code",
   "execution_count": null,
   "id": "abb3ef4e-3836-433d-9d0d-7d0d9548ece7",
   "metadata": {},
   "outputs": [],
   "source": [
    "run_stats_df"
   ]
  },
  {
   "cell_type": "code",
   "execution_count": null,
   "id": "fd4830c4-d436-4281-b903-644bfa03e0d3",
   "metadata": {},
   "outputs": [],
   "source": [
    "curves_df"
   ]
  },
  {
   "cell_type": "code",
   "execution_count": null,
   "id": "929a573c-da2e-43ba-93d3-3a61aeb1bbd5",
   "metadata": {},
   "outputs": [],
   "source": [
    "cv_results_df"
   ]
  },
  {
   "cell_type": "code",
   "execution_count": null,
   "id": "b8fa21a1-362f-42f4-8853-ebfb69ccafa0",
   "metadata": {},
   "outputs": [],
   "source": [
    "grid_search_cv"
   ]
  },
  {
   "cell_type": "code",
   "execution_count": null,
   "id": "c642c06d-8a76-42b7-a292-1ef895057e0f",
   "metadata": {},
   "outputs": [],
   "source": [
    "# Plotting learning curve\n",
    "schedule = mlrose.GeomDecay(init_temp = .5)\n",
    "nn_model1 = mlrose.NeuralNetwork(hidden_nodes = (100,100,100), activation = 'relu',\n",
    "                                 algorithm = 'simulated_annealing', max_iters = 2000,\n",
    "                                 bias = True, is_classifier = True, learning_rate = 0.001,\n",
    "                                 early_stopping = True, max_attempts = 10,\n",
    "\t\t\t\t random_state = RANDOM_STATE, curve = True, schedule = schedule)\n",
    "train_sizes, train_scores, validation_scores = learning_curve(\n",
    "estimator = nn_model1,\n",
    "X = X_train,\n",
    "y = y_train, cv = 5,\n",
    "scoring = 'f1_macro',\n",
    "random_state=RANDOM_STATE)"
   ]
  },
  {
   "cell_type": "code",
   "execution_count": null,
   "id": "7cf528c2-712f-40d2-a5ad-a4397c04af18",
   "metadata": {},
   "outputs": [],
   "source": [
    "train_mean = train_scores.mean(axis=1)\n",
    "validation_mean = validation_scores.mean(axis=1)\n",
    "\n",
    "plt.plot(train_sizes, train_mean, label=\"train\")\n",
    "plt.plot(train_sizes, validation_mean, label=\"validation\")\n",
    "\n",
    "plt.title(\"Simulated Annealing Learning Curve\")\n",
    "plt.xlabel(\"Iteration\")\n",
    "plt.ylabel(\"f1 score\")\n",
    "plt.legend(loc=\"best\")\n",
    "plt.grid()\n",
    "\n",
    "plt.show()"
   ]
  },
  {
   "cell_type": "code",
   "execution_count": null,
   "id": "b16fda09-a888-4790-a2f4-2d6fec779be4",
   "metadata": {},
   "outputs": [],
   "source": [
    "parameter_range = [1, 10, 25, 50]\n",
    "schedule = mlrose.GeomDecay()\n",
    "nn_model1 = mlrose.NeuralNetwork(hidden_nodes = (100,100,100), activation = 'relu',\n",
    "                                 algorithm = 'simulated_annealing', max_iters = 2000,\n",
    "                                 bias = True, is_classifier = True, learning_rate = 0.001,\n",
    "                                 early_stopping = True, max_attempts = 10,\n",
    "\t\t\t\t random_state = RANDOM_STATE, curve = True, schedule = schedule)\n",
    "train_score, test_score = validation_curve(nn_model1, X_train, y_train,\n",
    "                                           param_name=\"schedule__decay\",\n",
    "                                           param_range=parameter_range,\n",
    "                                           cv=5, scoring=\"f1_macro\")"
   ]
  },
  {
   "cell_type": "code",
   "execution_count": null,
   "id": "e3b644a8-59c0-47d9-9944-3735eb2a017c",
   "metadata": {},
   "outputs": [],
   "source": [
    "# Calculating mean and standard deviation of training score\n",
    "mean_train_score = np.mean(train_score, axis=1)\n",
    "std_train_score = np.std(train_score, axis=1)\n",
    " \n",
    "# Calculating mean and standard deviation of testing score\n",
    "mean_test_score = np.mean(test_score, axis=1)\n",
    "std_test_score = np.std(test_score, axis=1)\n",
    "\n",
    "parameter_range = [1, 10, 25, 50]\n",
    "# Plot mean accuracy scores for training and testing scores\n",
    "plt.plot(parameter_range, mean_train_score,\n",
    "         label=\"training\", color='b')\n",
    "plt.plot(parameter_range, mean_test_score,\n",
    "         label=\"validation\", color='g')\n",
    " \n",
    "# Creating the plot\n",
    "plt.title(\"Decay Validation Curve\")\n",
    "plt.xlabel(\"Decay\")\n",
    "plt.ylabel(\"f1 score\")\n",
    "plt.tight_layout()\n",
    "plt.legend(loc='best')\n",
    "plt.grid()\n",
    "# plt.savefig('breast_cancer_plots/nn_bc_layer_width_validation_curve.png')\n",
    "plt.show()"
   ]
  },
  {
   "cell_type": "markdown",
   "id": "4fb886f4-151e-4ed7-9aa4-a5975eccb888",
   "metadata": {},
   "source": [
    "### Genetic Algorithm"
   ]
  },
  {
   "cell_type": "code",
   "execution_count": null,
   "id": "f77fca43-539e-4af2-85a4-b0009b4c4ece",
   "metadata": {},
   "outputs": [],
   "source": [
    "grid_search_parameters = ({\n",
    "        'max_iters': [2000],                     # nn params\n",
    "        'learning_rate': [0.001],                         # nn params\n",
    "        'activation': [mlrose.relu]\n",
    "    })\n",
    "\n",
    "nnr = mlrose.NNGSRunner(x_train=X_train,\n",
    "                 y_train=y_train,\n",
    "                 x_test=X_test,\n",
    "                 y_test=y_test,\n",
    "                 experiment_name='nn_ga_test',\n",
    "                 algorithm=mlrose.algorithms.ga.genetic_alg,\n",
    "                 grid_search_parameters=grid_search_parameters,\n",
    "                 iteration_list=[1, 10, 50, 100, 250, 500, 1000, 2000],\n",
    "                 hidden_layer_sizes=[(100,100,100)],\n",
    "                 bias=True,\n",
    "                 early_stopping=True,\n",
    "                 clip_max=1e+10,\n",
    "                 max_attempts=10,\n",
    "                 generate_curves=True,\n",
    "                 seed=RANDOM_STATE)\n",
    "\n",
    "run_stats_df, curves_df, cv_results_df, grid_search_cv = nnr.run()          # GridSearchCV instance returned   "
   ]
  },
  {
   "cell_type": "code",
   "execution_count": null,
   "id": "725c9f31-3d1f-498c-8763-03bc0f37c3c4",
   "metadata": {},
   "outputs": [],
   "source": [
    "run_stats_df"
   ]
  },
  {
   "cell_type": "code",
   "execution_count": null,
   "id": "07dbb7f8-da40-4dac-be23-ba6f5fbdbbe7",
   "metadata": {},
   "outputs": [],
   "source": [
    "curves_df"
   ]
  },
  {
   "cell_type": "code",
   "execution_count": null,
   "id": "5a096008-4936-46a0-bc86-8cc981c9478a",
   "metadata": {},
   "outputs": [],
   "source": [
    "cv_results_df"
   ]
  },
  {
   "cell_type": "code",
   "execution_count": null,
   "id": "8e212c24-aa66-41ae-b88f-a660b6abf864",
   "metadata": {},
   "outputs": [],
   "source": [
    "grid_search_cv"
   ]
  },
  {
   "cell_type": "code",
   "execution_count": null,
   "id": "bed2e66f-cec1-42f6-88cc-14e255d94473",
   "metadata": {},
   "outputs": [],
   "source": [
    "# Plotting learning curve\n",
    "nn_model1 = mlrose.NeuralNetwork(hidden_nodes = (100,100,100), activation = 'relu',\n",
    "                                 algorithm = 'genetic_alg', max_iters = 2000,\n",
    "                                 bias = True, is_classifier = True, learning_rate = 0.001,\n",
    "                                 early_stopping = True, max_attempts = 10,\n",
    "\t\t\t\t random_state = RANDOM_STATE, curve = True, pop_size=500, mutation_prob=.25)\n",
    "train_sizes, train_scores, validation_scores = learning_curve(\n",
    "estimator = nn_model1,\n",
    "X = X_train,\n",
    "y = y_train, cv = 5,\n",
    "scoring = 'f1_macro',\n",
    "random_state=RANDOM_STATE)"
   ]
  },
  {
   "cell_type": "code",
   "execution_count": null,
   "id": "b9148773-7642-4638-b8be-b910d99d7b01",
   "metadata": {},
   "outputs": [],
   "source": [
    "train_mean = train_scores.mean(axis=1)\n",
    "validation_mean = validation_scores.mean(axis=1)\n",
    "\n",
    "plt.plot(train_sizes, train_mean, label=\"train\")\n",
    "plt.plot(train_sizes, validation_mean, label=\"validation\")\n",
    "\n",
    "plt.title(\"Genetic Algorithm Learning Curve\")\n",
    "plt.xlabel(\"Iteration\")\n",
    "plt.ylabel(\"f1 score\")\n",
    "plt.legend(loc=\"best\")\n",
    "plt.grid()\n",
    "\n",
    "plt.show()"
   ]
  },
  {
   "cell_type": "code",
   "execution_count": null,
   "id": "6198db53-83a5-4396-ad8f-f0095b3f0d27",
   "metadata": {},
   "outputs": [],
   "source": [
    "# Neural Network - Genetic Algorithm\n",
    "nn_model1 = mlrose.NeuralNetwork(hidden_nodes = (100,100,100), activation = 'relu',\n",
    "                                 algorithm = 'genetic_alg', max_iters = 2000,\n",
    "                                 bias = True, is_classifier = True, learning_rate = 0.001,\n",
    "                                 early_stopping = True, max_attempts = 10,\n",
    "\t\t\t\t random_state = RANDOM_STATE, curve = True, pop_size=500, mutation_prob=.25)\n",
    "\n",
    "start_time = time.time()\n",
    "nn_model1.fit(X_train, y_train)\n",
    "end_time = time.time()\n",
    "bp_time = end_time - start_time\n",
    "\n",
    "# Fitted Weights\n",
    "print('Fitted Weights: ', nn_model1.fitted_weights)\n",
    "\n",
    "# Loss\n",
    "print('Loss: ', nn_model1.loss)\n",
    "\n",
    "# Run time\n",
    "print('Run Time: ', bp_time)"
   ]
  },
  {
   "cell_type": "code",
   "execution_count": null,
   "id": "1c4f593a-e474-4020-ac87-9d2fd52f0861",
   "metadata": {},
   "outputs": [],
   "source": [
    "# Predict labels for train set and assess accuracy\n",
    "y_train_pred = nn_model1.predict(X_train)\n",
    "\n",
    "y_train_accuracy = accuracy_score(y_train, y_train_pred)\n",
    "\n",
    "print('Training accuracy: ', y_train_accuracy)\n",
    "\n",
    "# Predict labels for test set and assess accuracy\n",
    "y_test_pred = nn_model1.predict(X_test)\n",
    "\n",
    "y_test_accuracy = accuracy_score(y_test, y_test_pred)\n",
    "\n",
    "print('Test accuracy: ', y_test_accuracy)"
   ]
  },
  {
   "cell_type": "code",
   "execution_count": null,
   "id": "2f8f60f3-50a1-4e95-b2bc-cbca9be6386f",
   "metadata": {},
   "outputs": [],
   "source": [
    "# Evaluate\n",
    "\n",
    "# Predicted Probabilities\n",
    "# print('Predicted Probabilities: ', nn_model1.predicted_probs)\n",
    "\n",
    "# Fitness Curve\n",
    "fitness_curve = nn_model1.fitness_curve\n",
    "print('Fitness Curve: ', fitness_curve)"
   ]
  },
  {
   "cell_type": "code",
   "execution_count": null,
   "id": "5547ef42-8af6-4629-b5a4-a7661d8f3c0e",
   "metadata": {},
   "outputs": [],
   "source": [
    "# Plotting fitness curve\n",
    "iterations = [*range(0, len(fitness_curve))]\n",
    "plt.plot(iterations, fitness_curve, label='fitness')\n",
    "plt.title('Genetic Algorithm', fontsize=10)\n",
    "plt.xlabel('Iterations', fontsize=8)\n",
    "plt.ylabel('Fitness Score', fontsize=8)\n",
    "plt.legend(loc='best', fontsize=8)\n",
    "plt.grid()\n",
    "plt.show()"
   ]
  },
  {
   "cell_type": "markdown",
   "id": "e7da34ef-7aee-4a3c-9907-f00d1c5c75fa",
   "metadata": {},
   "source": [
    "#### Validation Curves"
   ]
  },
  {
   "cell_type": "code",
   "execution_count": null,
   "id": "6a0760f4-db98-4322-bfdb-adf361e569dc",
   "metadata": {},
   "outputs": [],
   "source": [
    "parameter_range = [10, 50, 100, 150, 200, 500, 1000]\n",
    "\n",
    "nn_model1 = mlrose.NeuralNetwork(hidden_nodes = (100,100,100), activation = 'relu',\n",
    "                                 algorithm = 'genetic_alg', max_iters = 2000,\n",
    "                                 bias = True, is_classifier = True, learning_rate = 0.001,\n",
    "                                 early_stopping = True, max_attempts = 10,\n",
    "\t\t\t\t random_state = RANDOM_STATE, curve = True)\n",
    "train_score, test_score = validation_curve(nn_model1, X_train, y_train,\n",
    "                                           param_name=\"pop_size\",\n",
    "                                           param_range=parameter_range,\n",
    "                                           cv=5, scoring=\"f1_macro\")"
   ]
  },
  {
   "cell_type": "code",
   "execution_count": null,
   "id": "cba045f2-a910-4317-bea1-f3ff0331d47e",
   "metadata": {},
   "outputs": [],
   "source": [
    "# Calculating mean and standard deviation of training score\n",
    "mean_train_score = np.mean(train_score, axis=1)\n",
    "std_train_score = np.std(train_score, axis=1)\n",
    " \n",
    "# Calculating mean and standard deviation of testing score\n",
    "mean_test_score = np.mean(test_score, axis=1)\n",
    "std_test_score = np.std(test_score, axis=1)\n",
    "\n",
    "parameter_range = [10, 50, 100, 150, 200, 500, 1000]\n",
    "# Plot mean accuracy scores for training and testing scores\n",
    "plt.plot(parameter_range, mean_train_score,\n",
    "         label=\"training\", color='b')\n",
    "plt.plot(parameter_range, mean_test_score,\n",
    "         label=\"validation\", color='g')\n",
    " \n",
    "# Creating the plot\n",
    "plt.title(\"Pop Size Validation Curve\")\n",
    "plt.xlabel(\"Pop Size\")\n",
    "plt.ylabel(\"f1 score\")\n",
    "plt.tight_layout()\n",
    "plt.legend(loc='best')\n",
    "plt.grid()\n",
    "# plt.savefig('breast_cancer_plots/nn_bc_layer_width_validation_curve.png')\n",
    "plt.show()"
   ]
  },
  {
   "cell_type": "code",
   "execution_count": null,
   "id": "a908b1de-5a74-4bec-ae99-a7825b1715ac",
   "metadata": {},
   "outputs": [],
   "source": [
    "parameter_range = [.1, .25, .5, .75, .99]\n",
    "\n",
    "nn_model1 = mlrose.NeuralNetwork(hidden_nodes = (100,100,100), activation = 'relu',\n",
    "                                 algorithm = 'genetic_alg', max_iters = 2000,\n",
    "                                 bias = True, is_classifier = True, learning_rate = 0.001,\n",
    "                                 early_stopping = True, max_attempts = 10,\n",
    "\t\t\t\t random_state = RANDOM_STATE, curve = True)\n",
    "train_score, test_score = validation_curve(nn_model1, X_train, y_train,\n",
    "                                           param_name=\"mutation_prob\",\n",
    "                                           param_range=parameter_range,\n",
    "                                           cv=5, scoring=\"f1_macro\")"
   ]
  },
  {
   "cell_type": "code",
   "execution_count": null,
   "id": "57d0e802-0bc6-45b1-a26f-187fc3ba372c",
   "metadata": {},
   "outputs": [],
   "source": [
    "# Calculating mean and standard deviation of training score\n",
    "mean_train_score = np.mean(train_score, axis=1)\n",
    "std_train_score = np.std(train_score, axis=1)\n",
    " \n",
    "# Calculating mean and standard deviation of testing score\n",
    "mean_test_score = np.mean(test_score, axis=1)\n",
    "std_test_score = np.std(test_score, axis=1)\n",
    "\n",
    "parameter_range = [.1, .25, .5, .75, .99]\n",
    "# Plot mean accuracy scores for training and testing scores\n",
    "plt.plot(parameter_range, mean_train_score,\n",
    "         label=\"training\", color='b')\n",
    "plt.plot(parameter_range, mean_test_score,\n",
    "         label=\"validation\", color='g')\n",
    " \n",
    "# Creating the plot\n",
    "plt.title(\"Mutation Prob Validation Curve\")\n",
    "plt.xlabel(\"Mutation Prob\")\n",
    "plt.ylabel(\"f1 score\")\n",
    "plt.tight_layout()\n",
    "plt.legend(loc='best')\n",
    "plt.grid()\n",
    "# plt.savefig('breast_cancer_plots/nn_bc_layer_width_validation_curve.png')\n",
    "plt.show()"
   ]
  },
  {
   "cell_type": "code",
   "execution_count": null,
   "id": "57c0fecd-ef55-4dc4-864d-b5aef63fcad3",
   "metadata": {},
   "outputs": [],
   "source": []
  }
 ],
 "metadata": {
  "kernelspec": {
   "display_name": "Python 3 (ipykernel)",
   "language": "python",
   "name": "python3"
  },
  "language_info": {
   "codemirror_mode": {
    "name": "ipython",
    "version": 3
   },
   "file_extension": ".py",
   "mimetype": "text/x-python",
   "name": "python",
   "nbconvert_exporter": "python",
   "pygments_lexer": "ipython3",
   "version": "3.11.0"
  }
 },
 "nbformat": 4,
 "nbformat_minor": 5
}
